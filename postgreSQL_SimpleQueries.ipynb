{
  "nbformat": 4,
  "nbformat_minor": 0,
  "metadata": {
    "colab": {
      "provenance": [],
      "authorship_tag": "ABX9TyOfEhTuv5CgJIi6TGF/rIz7"
    },
    "kernelspec": {
      "name": "python3",
      "display_name": "Python 3"
    },
    "language_info": {
      "name": "python"
    }
  },
  "cells": [
    {
      "cell_type": "markdown",
      "source": [
        "# Connect to database and develop simple queries\n",
        "In this notebook, we use the psycopg2 library in Python to connect to an online postgreSQL database and conduct some simple queries of the data using postgres. The Postgres query language is a variant of the SQL standard.\n",
        "We will use the popular Pandas library to allow us to display and interact with the data resulting form the queries."
      ],
      "metadata": {
        "id": "8C41uUiEZnZn"
      }
    },
    {
      "cell_type": "markdown",
      "source": [
        "##Connect to database\n",
        "First import the library used to connect to the database - we use the psycopg2 and SQLAlchemy libraries.\n"
      ],
      "metadata": {
        "id": "9-y67fu6aRZY"
      }
    },
    {
      "cell_type": "code",
      "source": [
        "import psycopg2\n",
        "from sqlalchemy import create_engine, text\n",
        "from sqlalchemy.engine.url import URL\n",
        "import pandas as pd\n",
        "import pandas.io.sql as sqlio"
      ],
      "metadata": {
        "id": "MbXcGGIdaLAB"
      },
      "execution_count": null,
      "outputs": []
    },
    {
      "cell_type": "markdown",
      "source": [
        "The URL.create() method of the SQLAlchemy library generates the connection string we pass to the connection engine. The database you are connecting to is hosted on a cloud service called Render (that means we can access it from this notebook).\n",
        "<li> The host is the address of the server - in this case an instance of the Render hosting service </li>\n",
        "<li> The database name on the host (TCP/IP) </li>\n",
        "<li> The TCP/IP port - the standard for postgreSQL is 5432 </li>\n",
        "<li> The database user name and password </li>\n"
      ],
      "metadata": {
        "id": "7YoidlcRc7OW"
      }
    },
    {
      "cell_type": "code",
      "source": [
        "connectionURL = URL.create(\"postgresql+psycopg2\",\n",
        "                           username=\"hsst_b2_user\",\n",
        "                           password=\"Ieg9wLhoZ9ra46bwjgsXTjjrMyMDIuNs\",\n",
        "                           host=\"dpg-cnsp2dvsc6pc73brtlf0-a.frankfurt-postgres.render.com\",\n",
        "                           database=\"hsst_b2_sql\")\n",
        "connection_engine = create_engine(connectionURL)"
      ],
      "metadata": {
        "id": "rehY5VkBwtvV"
      },
      "execution_count": null,
      "outputs": []
    },
    {
      "cell_type": "markdown",
      "source": [
        "The actual SQL query itself is assigned to a variable.\n",
        "This query selects everything from the \"SIM_AV_PATIENT\" table of the Cancer Services and Outcomes dataset. Using the LIMIT command means we only select the first 100 rows of data from the table. As we're writing the query as a string variable we need to escape the quotation marks that are part of the command.\n",
        "\n",
        "It can be easier to arrange a query into different lines:\n",
        "<li> The first line specifies the variables to be selected\n",
        "<li> The second line specifies the table toi select from\n",
        "<li> The last line modifies the pervious commands to only select 100 rows"
      ],
      "metadata": {
        "id": "B88pTSNcdHjd"
      }
    },
    {
      "cell_type": "code",
      "source": [
        "sql= \"SELECT * \" \\\n",
        "     \"FROM \\\"SIM_AV_PATIENT\\\" \" \\\n",
        "     \"LIMIT 100\"\n"
      ],
      "metadata": {
        "id": "wLOErVm6dpE0"
      },
      "execution_count": null,
      "outputs": []
    },
    {
      "cell_type": "markdown",
      "source": [
        "Run the query against the database connection and write the output to a Pandas dataframe."
      ],
      "metadata": {
        "id": "qjFvEAdojcn0"
      }
    },
    {
      "cell_type": "code",
      "source": [
        "with connection_engine.connect() as connection:\n",
        "  data = pd.DataFrame(connection.execute(text(sql)))\n",
        "  connection.close()"
      ],
      "metadata": {
        "id": "mDpz0KjoeJzD"
      },
      "execution_count": null,
      "outputs": []
    },
    {
      "cell_type": "markdown",
      "source": [
        "Use the display command to examine the resulting data. Clicking the ![notebookMagicTable.PNG](data:image/png;base64,iVBORw0KGgoAAAANSUhEUgAAAC0AAAAuCAYAAAC8jpA0AAAAAXNSR0IArs4c6QAAAARnQU1BAACxjwv8YQUAAAAJcEhZcwAADsMAAA7DAcdvqGQAAAJwSURBVGhD7ZhPSh1BEIdzDQ+Q7PUCcR+vEdzpIgtdukyO4DbbbHMAT+BCREF4uAghIggxD57EF6aTb6QenbG6u6pnnCCZH/yYv93zverqrpn3IjxDTdBjaYIeS/8ndNOEcHcfwu2iCTfzJlzfNuHq+4PZ5xzXuId7h1A19PLXA6gAWk0b2vZRFfSPOx3IY/qolQuaCDHcGkSN6asm6mbo+2X4K1/7+Pjy52qfPunbIxM00SgBxyA5X3xbho3983Yr5+jbE3ETdCklNBDNXD/4dBXWtk/abXw/z7CqCF2adDmQ2IzE+t55e5+Y43iErJMzC82QxQ/u2gIS2/IDLWmShbaswzmQdx+/tue3PsxW59nywzRgzDNLSkJTvbRONWsgbw+/rKKPNw8uVtdLk7ZUOZPQlF2tw5RjkC6wmIjHbVLm2TkloWtKNH7zfqYCi7U2XZdSJAldU/lSERaT41q7rkvLXxLaW/0E+OXOaTg6Wzz6ARxr7TTz7JyS0FpnKXeBOcdWAy5NQnFOvaFTwK92Tx8Bs3pYKifOqVd6eIFLhUVcnR6liegB9lbO6omYW/I8wGJPpKuXvFRxkdLsARYDmivh4urikirjgOHPx/P22Aostqwe1WUcaSkiFY93CcA9wBaXUgNlobVXU4b29R9gifiQwLj3qynSPgIAl4hbS7PFg3wEiGreQ7wuLXOxTNAMmfddxGP6tqSFyASNhvwLITZ9PslfCCKiMWSq0JcnwiIXtKj0hW6xddJpqoJGRChX6lOmTU10Y1VDi6helF1gGO4479nnHNe4p1TprOoN/S80QY+lCXosTdBj6RlCh/AbRPEGw0g1sBkAAAAASUVORK5CYII=) magic table icon will allow you to explore the table in an interactive way."
      ],
      "metadata": {
        "id": "sHWfZg6dkQZd"
      }
    },
    {
      "cell_type": "code",
      "source": [
        "display(data)"
      ],
      "metadata": {
        "id": "E9o7OVxkw9TW"
      },
      "execution_count": null,
      "outputs": []
    },
    {
      "cell_type": "markdown",
      "source": [
        "The PATIENTID variable allows us to link across all the different tables. The causes of death are ICD10 codes. Look up some of them https://icd.who.int/browse10/2019/en"
      ],
      "metadata": {
        "id": "6hrzqwjY4h8Q"
      }
    }
  ]
}