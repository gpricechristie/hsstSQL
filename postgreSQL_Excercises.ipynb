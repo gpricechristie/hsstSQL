{
  "nbformat": 4,
  "nbformat_minor": 0,
  "metadata": {
    "colab": {
      "provenance": [],
      "authorship_tag": "ABX9TyMPwCPJXqQPyybE4F9nscnA",
      "include_colab_link": true
    },
    "kernelspec": {
      "name": "python3",
      "display_name": "Python 3"
    },
    "language_info": {
      "name": "python"
    }
  },
  "cells": [
    {
      "cell_type": "markdown",
      "metadata": {
        "id": "view-in-github",
        "colab_type": "text"
      },
      "source": [
        "<a href=\"https://colab.research.google.com/github/gpricechristie/hsstSQL/blob/main/postgreSQL_Excercises.ipynb\" target=\"_parent\"><img src=\"https://colab.research.google.com/assets/colab-badge.svg\" alt=\"Open In Colab\"/></a>"
      ]
    },
    {
      "cell_type": "markdown",
      "source": [
        "#PostgreSQL exercises\n",
        "In this notebook you will modify the SQL statement to develop different queries.\n",
        "\n",
        "Make sure you have disconnected the runtime (Runtime->Disconnect and delete runtime) from any previous Google Colab notebooks you have been running."
      ],
      "metadata": {
        "id": "UmBwnj9CJERV"
      }
    },
    {
      "cell_type": "markdown",
      "source": [
        "##Code to connect to the cloud database\n",
        "Execute the code elements below to connect to the cloud hosted simulated version of the National Cancer  Outcomes and Services and Systemic Anti-Cancer Therapy database"
      ],
      "metadata": {
        "id": "ujN3EJxvJWjU"
      }
    },
    {
      "cell_type": "code",
      "source": [
        "import psycopg2\n",
        "from sqlalchemy import create_engine, text\n",
        "from sqlalchemy.engine.url import URL\n",
        "import pandas as pd\n",
        "import pandas.io.sql as sqlio"
      ],
      "metadata": {
        "id": "2fUEQI2QJzdV"
      },
      "execution_count": null,
      "outputs": []
    },
    {
      "cell_type": "code",
      "source": [
        "connectionURL = URL.create(\"postgresql+psycopg2\",\n",
        "                           username=\"hsst_b2_user\",\n",
        "                           password=\"vXo6LXzqMx6t8KwvsIdasO4iVLCoxQ7o\",\n",
        "                           host=\"dpg-chagapak728r884bicp0-a.frankfurt-postgres.render.com\",\n",
        "                           database=\"hsst_b2_clinical_computing\")\n",
        "                           connection_engine = create_engine(connectionURL)"
      ],
      "metadata": {
        "id": "LO--rW8wJ1c0"
      },
      "execution_count": null,
      "outputs": []
    },
    {
      "cell_type": "markdown",
      "source": [
        "##SQL Exercises\n",
        "In this section you will modify the SQL query by editing the first cell and then run the query using the second cell. You can then display your results using the third."
      ],
      "metadata": {
        "id": "wY4CTQLNKJw2"
      }
    },
    {
      "cell_type": "markdown",
      "source": [
        "###SQL query to modify "
      ],
      "metadata": {
        "id": "p8-475w4Kfy7"
      }
    },
    {
      "cell_type": "code",
      "source": [
        "sql= \"SELECT \\\"PATIENTID\\\" FROM \\\"SIM_AV_PATIENT\\\" LIMIT 100\"\n"
      ],
      "metadata": {
        "id": "nXeDNPOdKal1"
      },
      "execution_count": null,
      "outputs": []
    },
    {
      "cell_type": "markdown",
      "source": [
        "###Code to run query against database"
      ],
      "metadata": {
        "id": "W6x1IFiKKkPc"
      }
    },
    {
      "cell_type": "code",
      "source": [
        "with connection_engine.connect() as connection:\n",
        "    data = pd.DataFrame(connection.execute(text(sql)))\n",
        "    connection.close()"
      ],
      "metadata": {
        "id": "w-b8EoIpKnt7"
      },
      "execution_count": null,
      "outputs": []
    },
    {
      "cell_type": "markdown",
      "source": [
        "###Code to display results of query"
      ],
      "metadata": {
        "id": "8VollOSzKrD8"
      }
    },
    {
      "cell_type": "code",
      "source": [
        "display(data)"
      ],
      "metadata": {
        "id": "cIxDBWAOKwDd"
      },
      "execution_count": null,
      "outputs": []
    }
  ]
}